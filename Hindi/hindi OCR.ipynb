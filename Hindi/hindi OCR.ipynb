{
 "cells": [
  {
   "cell_type": "markdown",
   "metadata": {
    "_uuid": "3ed6160375d0a14035da8cc7d446eb6215686270"
   },
   "source": [
    "# Understanding Convolutional Neural Network - Handwriting recognition of HINDI(devnagri) Alphabets"
   ]
  },
  {
   "cell_type": "code",
   "execution_count": 19,
   "metadata": {
    "scrolled": false
   },
   "outputs": [],
   "source": [
    "import numpy as np\n",
    "from keras import layers\n",
    "from keras.layers import Input, Dense, Activation, ZeroPadding2D, BatchNormalization, Flatten, Conv2D\n",
    "from keras.layers import AveragePooling2D, MaxPooling2D, Dropout, GlobalMaxPooling2D, GlobalAveragePooling2D\n",
    "from keras.utils import np_utils, print_summary\n",
    "import pandas as pd\n",
    "from keras.models import Sequential\n",
    "from keras.callbacks import ModelCheckpoint\n",
    "import keras.backend as K\n",
    "import os\n",
    "import matplotlib.pyplot as plt\n",
    "%matplotlib inline"
   ]
  },
  {
   "cell_type": "markdown",
   "metadata": {},
   "source": [
    "## Model"
   ]
  },
  {
   "cell_type": "code",
   "execution_count": 8,
   "metadata": {},
   "outputs": [],
   "source": [
    "K.set_image_data_format('channels_last')\n",
    "\n",
    "def keras_model(image_x,image_y):\n",
    "    num_of_classes = 37\n",
    "    model = Sequential()\n",
    "    model.add(Conv2D(filters=32, kernel_size=(5, 5), input_shape=(image_x, image_y, 1), activation='sigmoid'))\n",
    "    model.add(Conv2D(32, (5, 5),padding = 'Same',\n",
    "                 activation='relu'))\n",
    "    model.add(MaxPooling2D(pool_size=(2, 2)))\n",
    "    model.add(Dropout(0.25))#used to handle Overfitting\n",
    "    model.add(Conv2D(filters = 64, kernel_size = (3,3),padding = 'Same', \n",
    "                     activation ='relu'))\n",
    "    model.add(Conv2D(filters = 64, kernel_size = (3,3),padding = 'Same', \n",
    "                     activation ='relu'))\n",
    "    model.add(MaxPooling2D(pool_size=(2, 2), strides=(2,2)))\n",
    "    model.add(Dropout(0.25))\n",
    "    model.add(Flatten())\n",
    "    model.add(Dense(128, activation='relu'))\n",
    "    model.add(Dense(num_of_classes, activation='softmax'))\n",
    "    \n",
    "    # Configuring our model\n",
    "    model.compile(loss='categorical_crossentropy', optimizer='adam', metrics=['accuracy'])\n",
    "  \n",
    "\n",
    "    return model"
   ]
  },
  {
   "cell_type": "markdown",
   "metadata": {},
   "source": [
    "#### Reading Data"
   ]
  },
  {
   "cell_type": "code",
   "execution_count": 12,
   "metadata": {},
   "outputs": [],
   "source": [
    "#extract the .7z file in the same directory\n",
    "data = pd.read_csv(os.getcwd() +\"/data.csv\")\n",
    "dataset = np.array(data)\n",
    "np.random.shuffle(dataset)\n",
    "X = dataset\n",
    "Y = dataset\n",
    "X = X[:, 0:1024]\n",
    "Y = Y[:, 1024]"
   ]
  },
  {
   "cell_type": "code",
   "execution_count": 13,
   "metadata": {},
   "outputs": [],
   "source": [
    "X_train = X[0:70000, :]\n",
    "X_train = X_train / 255.\n",
    "X_test = X[70000:72001, :]\n",
    "X_test = X_test / 255."
   ]
  },
  {
   "cell_type": "code",
   "execution_count": 14,
   "metadata": {
    "scrolled": true
   },
   "outputs": [
    {
     "name": "stdout",
     "output_type": "stream",
     "text": [
      "number of training examples = 70000\n",
      "number of test examples = 2000\n",
      "X_train shape: (70000, 1024)\n",
      "Y_train shape: (1, 70000)\n",
      "X_test shape: (2000, 1024)\n",
      "Y_test shape: (1, 2000)\n"
     ]
    }
   ],
   "source": [
    "Y = Y.reshape(Y.shape[0], 1)\n",
    "Y_train = Y[0:70000, :]\n",
    "Y_train = Y_train.T\n",
    "Y_test = Y[70000:72001, :]\n",
    "Y_test = Y_test.T\n",
    "print(\"number of training examples = \" + str(X_train.shape[0]))\n",
    "print(\"number of test examples = \" + str(X_test.shape[0]))\n",
    "print(\"X_train shape: \" + str(X_train.shape))\n",
    "print(\"Y_train shape: \" + str(Y_train.shape))\n",
    "print(\"X_test shape: \" + str(X_test.shape))\n",
    "print(\"Y_test shape: \" + str(Y_test.shape))"
   ]
  },
  {
   "cell_type": "code",
   "execution_count": 15,
   "metadata": {
    "scrolled": true
   },
   "outputs": [
    {
     "name": "stdout",
     "output_type": "stream",
     "text": [
      "X_train shape: (70000, 32, 32, 1)\n",
      "Y_train shape: (70000, 37)\n"
     ]
    }
   ],
   "source": [
    "image_x = 32\n",
    "image_y = 32\n",
    "#one hot encoding\n",
    "train_y = np_utils.to_categorical(Y_train)\n",
    "test_y = np_utils.to_categorical(Y_test)\n",
    "train_y = train_y.reshape(train_y.shape[1], train_y.shape[2])\n",
    "test_y = test_y.reshape(test_y.shape[1], test_y.shape[2])\n",
    "X_train = X_train.reshape(X_train.shape[0], 32, 32, 1)\n",
    "\n",
    "print(\"X_train shape: \" + str(X_train.shape))\n",
    "print(\"Y_train shape: \" + str(train_y.shape))\n",
    "X_test = X_test.reshape(X_test.shape[0], 32, 32, 1)"
   ]
  },
  {
   "cell_type": "code",
   "execution_count": 23,
   "metadata": {
    "scrolled": true
   },
   "outputs": [
    {
     "name": "stdout",
     "output_type": "stream",
     "text": [
      "_________________________________________________________________\n",
      "Layer (type)                 Output Shape              Param #   \n",
      "=================================================================\n",
      "conv2d_5 (Conv2D)            (None, 28, 28, 32)        832       \n",
      "_________________________________________________________________\n",
      "conv2d_6 (Conv2D)            (None, 28, 28, 32)        25632     \n",
      "_________________________________________________________________\n",
      "max_pooling2d_3 (MaxPooling2 (None, 14, 14, 32)        0         \n",
      "_________________________________________________________________\n",
      "dropout_3 (Dropout)          (None, 14, 14, 32)        0         \n",
      "_________________________________________________________________\n",
      "conv2d_7 (Conv2D)            (None, 14, 14, 64)        18496     \n",
      "_________________________________________________________________\n",
      "conv2d_8 (Conv2D)            (None, 14, 14, 64)        36928     \n",
      "_________________________________________________________________\n",
      "max_pooling2d_4 (MaxPooling2 (None, 7, 7, 64)          0         \n",
      "_________________________________________________________________\n",
      "dropout_4 (Dropout)          (None, 7, 7, 64)          0         \n",
      "_________________________________________________________________\n",
      "flatten_2 (Flatten)          (None, 3136)              0         \n",
      "_________________________________________________________________\n",
      "dense_3 (Dense)              (None, 128)               401536    \n",
      "_________________________________________________________________\n",
      "dense_4 (Dense)              (None, 37)                4773      \n",
      "=================================================================\n",
      "Total params: 488,197\n",
      "Trainable params: 488,197\n",
      "Non-trainable params: 0\n",
      "_________________________________________________________________\n"
     ]
    }
   ],
   "source": [
    "print_summary(model)"
   ]
  },
  {
   "cell_type": "markdown",
   "metadata": {},
   "source": [
    "### Running Model"
   ]
  },
  {
   "cell_type": "code",
   "execution_count": 17,
   "metadata": {
    "scrolled": true
   },
   "outputs": [
    {
     "name": "stdout",
     "output_type": "stream",
     "text": [
      "Train on 70000 samples, validate on 2000 samples\n",
      "Epoch 1/15\n",
      "70000/70000 [==============================] - 73s 1ms/step - loss: 1.5154 - acc: 0.5742 - val_loss: 0.4239 - val_acc: 0.8865\n",
      "Epoch 2/15\n",
      "70000/70000 [==============================] - 70s 1ms/step - loss: 0.3963 - acc: 0.8784 - val_loss: 0.3122 - val_acc: 0.9135\n",
      "Epoch 3/15\n",
      "70000/70000 [==============================] - 71s 1ms/step - loss: 0.2920 - acc: 0.9103 - val_loss: 0.2211 - val_acc: 0.9395\n",
      "Epoch 4/15\n",
      "70000/70000 [==============================] - 71s 1ms/step - loss: 0.2429 - acc: 0.9240 - val_loss: 0.1900 - val_acc: 0.9470\n",
      "Epoch 5/15\n",
      "70000/70000 [==============================] - 70s 1ms/step - loss: 0.2086 - acc: 0.9354 - val_loss: 0.1787 - val_acc: 0.9470\n",
      "Epoch 6/15\n",
      "70000/70000 [==============================] - 67s 961us/step - loss: 0.1850 - acc: 0.9426 - val_loss: 0.1464 - val_acc: 0.9555\n",
      "Epoch 7/15\n",
      "70000/70000 [==============================] - 67s 962us/step - loss: 0.1642 - acc: 0.9480 - val_loss: 0.1402 - val_acc: 0.9570\n",
      "Epoch 8/15\n",
      "70000/70000 [==============================] - 67s 961us/step - loss: 0.1500 - acc: 0.9524 - val_loss: 0.1426 - val_acc: 0.9580\n",
      "Epoch 9/15\n",
      "70000/70000 [==============================] - 67s 962us/step - loss: 0.1327 - acc: 0.9577 - val_loss: 0.1344 - val_acc: 0.9575\n",
      "Epoch 10/15\n",
      "70000/70000 [==============================] - 67s 963us/step - loss: 0.1274 - acc: 0.9594 - val_loss: 0.1198 - val_acc: 0.9620\n",
      "Epoch 11/15\n",
      "70000/70000 [==============================] - 67s 961us/step - loss: 0.1115 - acc: 0.9644 - val_loss: 0.1195 - val_acc: 0.9615\n",
      "Epoch 12/15\n",
      "70000/70000 [==============================] - 67s 962us/step - loss: 0.1106 - acc: 0.9644 - val_loss: 0.1256 - val_acc: 0.9605\n",
      "Epoch 13/15\n",
      "70000/70000 [==============================] - 67s 962us/step - loss: 0.1029 - acc: 0.9665 - val_loss: 0.1341 - val_acc: 0.9615\n",
      "Epoch 14/15\n",
      "70000/70000 [==============================] - 67s 962us/step - loss: 0.0961 - acc: 0.9691 - val_loss: 0.1393 - val_acc: 0.9535\n",
      "Epoch 15/15\n",
      "70000/70000 [==============================] - 68s 967us/step - loss: 0.0920 - acc: 0.9701 - val_loss: 0.0887 - val_acc: 0.9725\n",
      "CNN Error: 2.75%\n",
      "_________________________________________________________________\n",
      "Layer (type)                 Output Shape              Param #   \n",
      "=================================================================\n",
      "conv2d_5 (Conv2D)            (None, 28, 28, 32)        832       \n",
      "_________________________________________________________________\n",
      "conv2d_6 (Conv2D)            (None, 28, 28, 32)        25632     \n",
      "_________________________________________________________________\n",
      "max_pooling2d_3 (MaxPooling2 (None, 14, 14, 32)        0         \n",
      "_________________________________________________________________\n",
      "dropout_3 (Dropout)          (None, 14, 14, 32)        0         \n",
      "_________________________________________________________________\n",
      "conv2d_7 (Conv2D)            (None, 14, 14, 64)        18496     \n",
      "_________________________________________________________________\n",
      "conv2d_8 (Conv2D)            (None, 14, 14, 64)        36928     \n",
      "_________________________________________________________________\n",
      "max_pooling2d_4 (MaxPooling2 (None, 7, 7, 64)          0         \n",
      "_________________________________________________________________\n",
      "dropout_4 (Dropout)          (None, 7, 7, 64)          0         \n",
      "_________________________________________________________________\n",
      "flatten_2 (Flatten)          (None, 3136)              0         \n",
      "_________________________________________________________________\n",
      "dense_3 (Dense)              (None, 128)               401536    \n",
      "_________________________________________________________________\n",
      "dense_4 (Dense)              (None, 37)                4773      \n",
      "=================================================================\n",
      "Total params: 488,197\n",
      "Trainable params: 488,197\n",
      "Non-trainable params: 0\n",
      "_________________________________________________________________\n"
     ]
    }
   ],
   "source": [
    "model= keras_model(image_x, image_y)\n",
    "obj=model.fit(X_train, train_y, validation_data=(X_test, test_y), epochs=15, batch_size=64)\n",
    "scores = model.evaluate(X_test, test_y, verbose=0)\n",
    "print(\"CNN Error: %.2f%%\" % (100 - scores[1] * 100))\n",
    "\n",
    "\n",
    "model.save('Hindi_new.h5')\n",
    "\n",
    "\n"
   ]
  },
  {
   "cell_type": "markdown",
   "metadata": {},
   "source": [
    "#### PLOTTING ACCURACY"
   ]
  },
  {
   "cell_type": "code",
   "execution_count": 20,
   "metadata": {
    "scrolled": true
   },
   "outputs": [
    {
     "data": {
      "text/plain": [
       "<matplotlib.legend.Legend at 0x7f53f212c208>"
      ]
     },
     "execution_count": 20,
     "metadata": {},
     "output_type": "execute_result"
    },
    {
     "data": {
      "image/png": "[encoded data removed]",
      "text/plain": [
       "<matplotlib.figure.Figure at 0x7f53f2167cf8>"
      ]
     },
     "metadata": {},
     "output_type": "display_data"
    }
   ],
   "source": [
    "import matplotlib.patches as mpatches\n",
    "line1=plt.plot(range(1,16),obj.history['acc'],'r-' )\n",
    "line2=plt.plot(range(1,16),obj.history['val_acc'],'g-')\n",
    "plt.xlabel(\"EPOCH\")\n",
    "plt.ylabel(\"ACCURACY\")\n",
    "\n",
    "red_patch = mpatches.Patch(color='red', label='Train ACC.')\n",
    "green_patch = mpatches.Patch(color='green', label='Val ACC.')\n",
    "plt.legend(handles=[green_patch,red_patch], loc=2)\n"
   ]
  },
  {
   "cell_type": "markdown",
   "metadata": {},
   "source": [
    "#### PLOTTING ERROR"
   ]
  },
  {
   "cell_type": "code",
   "execution_count": 21,
   "metadata": {},
   "outputs": [
    {
     "data": {
      "text/plain": [
       "<matplotlib.legend.Legend at 0x7f53f211b7b8>"
      ]
     },
     "execution_count": 21,
     "metadata": {},
     "output_type": "execute_result"
    },
    {
     "data": {
      "image/png": "[encoded data removed]",
      "text/plain": [
       "<matplotlib.figure.Figure at 0x7f53f21670f0>"
      ]
     },
     "metadata": {},
     "output_type": "display_data"
    }
   ],
   "source": [
    "line1=plt.plot(range(1,16),obj.history['loss'],'r-' )\n",
    "line2=plt.plot(range(1,16),obj.history['val_loss'],'g-')\n",
    "plt.xlabel(\"EPOCH\")\n",
    "plt.ylabel(\"LOSS\")\n",
    "\n",
    "red_patch = mpatches.Patch(color='red', label='Train Loss')\n",
    "green_patch = mpatches.Patch(color='green', label='Val Loss')\n",
    "plt.legend(handles=[green_patch,red_patch], loc=1)\n"
   ]
  },
  {
   "cell_type": "code",
   "execution_count": 22,
   "metadata": {},
   "outputs": [],
   "source": [
    "\n",
    "K.clear_session();"
   ]
  },
  {
   "cell_type": "code",
   "execution_count": null,
   "metadata": {},
   "outputs": [],
   "source": []
  }
 ],
 "metadata": {
  "kernelspec": {
   "display_name": "Python 3",
   "language": "python",
   "name": "python3"
  },
  "language_info": {
   "codemirror_mode": {
    "name": "ipython",
    "version": 3
   },
   "file_extension": ".py",
   "mimetype": "text/x-python",
   "name": "python",
   "nbconvert_exporter": "python",
   "pygments_lexer": "ipython3",
   "version": "3.6.4"
  }
 },
 "nbformat": 4,
 "nbformat_minor": 2
}
