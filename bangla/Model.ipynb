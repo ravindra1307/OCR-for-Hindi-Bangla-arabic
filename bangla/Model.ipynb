{
 "cells": [
  {
   "cell_type": "code",
   "execution_count": 3,
   "metadata": {},
   "outputs": [],
   "source": [
    "import numpy as np\n",
    "import matplotlib.pyplot as plt\n",
    "import keras\n",
    "import os\n",
    "from PIL import Image\n",
    "from keras.models import Sequential,load_model\n",
    "from keras.layers import Dense, Dropout, Flatten\n",
    "from keras.layers import Conv2D, MaxPooling2D\n",
    "from keras import backend as K\n",
    "from sklearn.model_selection import train_test_split\n",
    "\n",
    "%matplotlib inline"
   ]
  },
  {
   "cell_type": "code",
   "execution_count": 5,
   "metadata": {},
   "outputs": [
    {
     "name": "stdout",
     "output_type": "stream",
     "text": [
      "(12000, 32, 32, 1)\n",
      "0.41700462271497074\n",
      "0.2604762823875556\n"
     ]
    }
   ],
   "source": [
    "train_path = os.getcwd()+'/BasicFinalDatabase/Train'\n",
    "folders = []\n",
    "[folders.append('/'+i) for i in sorted(os.listdir(train_path))]\n",
    "label_map = ['অ','আ','ই ','ঈ','উ','ঊ','ঋ','এ','ঐ','ও','ঔ',\n",
    "             'ক','খ','গ','ঘ','ঙ',\n",
    "             'চ','ছ','জ','ঝ','ঞ', \n",
    "             'ট','ঠ','ড','ঢ','ণ',\n",
    "             'ত','থ','দ','ধ','ন',\n",
    "             'প','ফ','ব','ভ','ম',\n",
    "             'য','র','ল',\n",
    "             'শ','ষ','স','হ',\n",
    "             'য়','ড়','ঢ়','ৎ','ং','ঃ','ঁ']\n",
    "Temp = []\n",
    "for folder in folders:\n",
    "    \n",
    "    images = os.listdir((train_path+folder))\n",
    "    temp = []\n",
    "    for image in images:\n",
    "        img = Image.open(train_path+folder+'/'+image).convert('L')\n",
    "        img = img.resize((32,32))\n",
    "        arr = np.array(img)[..., np.newaxis]\n",
    "        arr = arr / 255.0\n",
    "        Temp.append(arr)\n",
    "X_orig = np.stack(Temp)\n",
    "print(X_orig.shape)"
   ]
  },
  {
   "cell_type": "code",
   "execution_count": 6,
   "metadata": {},
   "outputs": [],
   "source": [
    "Y_orig = []\n",
    "[Y_orig.extend([bc]*240) for bc in range(len(label_map))]\n",
    "Y_orig = np.stack(Y_orig)\n",
    "Y_orig = keras.utils.to_categorical(Y_orig, len(np.unique(Y_orig)))"
   ]
  },
  {
   "cell_type": "code",
   "execution_count": 7,
   "metadata": {},
   "outputs": [
    {
     "name": "stdout",
     "output_type": "stream",
     "text": [
      "(12000, 32, 32, 1) (12000, 50)\n"
     ]
    }
   ],
   "source": [
    "indices = np.arange(X_orig.shape[0])\n",
    "np.random.shuffle(indices)\n",
    "X_orig = X_orig[indices]\n",
    "Y_orig = Y_orig[indices]\n",
    "\n",
    "print(X_orig.shape,Y_orig.shape)"
   ]
  },
  {
   "cell_type": "code",
   "execution_count": 10,
   "metadata": {},
   "outputs": [
    {
     "name": "stdout",
     "output_type": "stream",
     "text": [
      "(3000, 32, 32, 1)\n"
     ]
    }
   ],
   "source": [
    "test_path = os.getcwd()+'/BasicFinalDatabase/Test'\n",
    "folders = []\n",
    "[folders.append('/'+i) for i in sorted(os.listdir(test_path))]\n",
    "\n",
    "Temp2 = []\n",
    "for folder in folders:\n",
    "    \n",
    "    images = os.listdir((test_path+folder))\n",
    "    for image in images:\n",
    "        img = Image.open(test_path+folder+'/'+image).convert('L')\n",
    "        img = img.resize((32,32))\n",
    "        arr = np.array(img)[..., np.newaxis]\n",
    "        arr = arr / 255.0\n",
    "        Temp2.append(arr)\n",
    "\n",
    "X_test = np.stack(Temp2)\n",
    "print(X_test.shape)"
   ]
  },
  {
   "cell_type": "code",
   "execution_count": 11,
   "metadata": {},
   "outputs": [
    {
     "name": "stdout",
     "output_type": "stream",
     "text": [
      "(3000, 50)\n"
     ]
    }
   ],
   "source": [
    "Y_test = []\n",
    "[Y_test.extend([bc]*60) for bc in range(len(label_map))]\n",
    "Y_test = np.stack(Y_test)\n",
    "Y_test = keras.utils.to_categorical(Y_test, len(np.unique(Y_test)))\n",
    "print(Y_test.shape)"
   ]
  },
  {
   "cell_type": "code",
   "execution_count": 12,
   "metadata": {},
   "outputs": [
    {
     "name": "stdout",
     "output_type": "stream",
     "text": [
      "(3000, 32, 32, 1) (3000, 50)\n"
     ]
    }
   ],
   "source": [
    "indices = np.arange(X_test.shape[0])\n",
    "np.random.shuffle(indices)\n",
    "X_test = X_test[indices]\n",
    "Y_test = Y_test[indices]\n",
    "\n",
    "print(X_test.shape,Y_test.shape)"
   ]
  },
  {
   "cell_type": "code",
   "execution_count": 13,
   "metadata": {
    "scrolled": true
   },
   "outputs": [
    {
     "data": {
      "text/plain": [
       "((9600, 32, 32, 1), (9600, 50), (2400, 32, 32, 1), (2400, 50))"
      ]
     },
     "execution_count": 13,
     "metadata": {},
     "output_type": "execute_result"
    }
   ],
   "source": [
    "X_train,X_dev,Y_train,Y_dev = train_test_split(X_orig, Y_orig, test_size=0.2, shuffle=False)\n",
    "X_train.shape,Y_train.shape,X_dev.shape,Y_dev.shape"
   ]
  },
  {
   "cell_type": "markdown",
   "metadata": {},
   "source": [
    "### MODEL "
   ]
  },
  {
   "cell_type": "code",
   "execution_count": 19,
   "metadata": {
    "collapsed": true
   },
   "outputs": [
    {
     "name": "stdout",
     "output_type": "stream",
     "text": [
      "Train on 9600 samples, validate on 2400 samples\n",
      "Epoch 1/12\n",
      "9600/9600 [==============================] - 12s 1ms/step - loss: 3.8476 - acc: 0.0639 - val_loss: 2.4384 - val_acc: 0.3254\n",
      "Epoch 2/12\n",
      "9600/9600 [==============================] - 11s 1ms/step - loss: 2.0832 - acc: 0.4256 - val_loss: 1.4801 - val_acc: 0.5779\n",
      "Epoch 3/12\n",
      "9600/9600 [==============================] - 11s 1ms/step - loss: 1.2336 - acc: 0.6404 - val_loss: 0.9329 - val_acc: 0.7413\n",
      "Epoch 4/12\n",
      "9600/9600 [==============================] - 11s 1ms/step - loss: 0.8083 - acc: 0.7574 - val_loss: 0.7561 - val_acc: 0.7958\n",
      "Epoch 5/12\n",
      "9600/9600 [==============================] - 11s 1ms/step - loss: 0.6123 - acc: 0.8157 - val_loss: 0.6699 - val_acc: 0.8079\n",
      "Epoch 6/12\n",
      "9600/9600 [==============================] - 11s 1ms/step - loss: 0.4867 - acc: 0.8496 - val_loss: 0.6287 - val_acc: 0.8254\n",
      "Epoch 7/12\n",
      "9600/9600 [==============================] - 11s 1ms/step - loss: 0.4019 - acc: 0.8736 - val_loss: 0.5493 - val_acc: 0.8437\n",
      "Epoch 8/12\n",
      "9600/9600 [==============================] - 11s 1ms/step - loss: 0.3239 - acc: 0.9008 - val_loss: 0.5323 - val_acc: 0.8471\n",
      "Epoch 9/12\n",
      "9600/9600 [==============================] - 12s 1ms/step - loss: 0.2832 - acc: 0.9120 - val_loss: 0.5176 - val_acc: 0.8617\n",
      "Epoch 10/12\n",
      "9600/9600 [==============================] - 12s 1ms/step - loss: 0.2327 - acc: 0.9243 - val_loss: 0.5230 - val_acc: 0.8596\n",
      "Epoch 11/12\n",
      "9600/9600 [==============================] - 12s 1ms/step - loss: 0.2049 - acc: 0.9339 - val_loss: 0.5242 - val_acc: 0.8654\n",
      "Epoch 12/12\n",
      "9600/9600 [==============================] - 12s 1ms/step - loss: 0.1727 - acc: 0.9424 - val_loss: 0.5294 - val_acc: 0.8654\n",
      "<keras.callbacks.History object at 0x7f589b382208>\n"
     ]
    }
   ],
   "source": [
    "\n",
    "\n",
    "model = Sequential()\n",
    "model.add(Conv2D(32, kernel_size=(5, 5),padding = 'Same',\n",
    "                 activation='relu',\n",
    "                 input_shape=(32,32,1)))\n",
    "model.add(Conv2D(32, (5, 5),padding = 'Same',\n",
    "                 activation='relu'))\n",
    "model.add(MaxPooling2D(pool_size=(2, 2)))\n",
    "model.add(Dropout(0.25))#used to handle Overfitting\n",
    "model.add(Conv2D(filters = 64, kernel_size = (3,3),padding = 'Same', \n",
    "                 activation ='relu'))\n",
    "model.add(Conv2D(filters = 64, kernel_size = (3,3),padding = 'Same', \n",
    "                 activation ='relu'))\n",
    "model.add(MaxPooling2D(pool_size=(2, 2), strides=(2,2)))\n",
    "model.add(Dropout(0.25))\n",
    "model.add(Flatten())\n",
    "model.add(Dense(128, activation='relu'))\n",
    "model.add(Dense(50, activation='softmax'))"
   ]
  },
  {
   "cell_type": "code",
   "execution_count": 71,
   "metadata": {},
   "outputs": [
    {
     "name": "stdout",
     "output_type": "stream",
     "text": [
      "_________________________________________________________________\n",
      "Layer (type)                 Output Shape              Param #   \n",
      "=================================================================\n",
      "conv2d_5 (Conv2D)            (None, 32, 32, 32)        832       \n",
      "_________________________________________________________________\n",
      "conv2d_6 (Conv2D)            (None, 32, 32, 32)        25632     \n",
      "_________________________________________________________________\n",
      "max_pooling2d_5 (MaxPooling2 (None, 16, 16, 32)        0         \n",
      "_________________________________________________________________\n",
      "dropout_3 (Dropout)          (None, 16, 16, 32)        0         \n",
      "_________________________________________________________________\n",
      "conv2d_7 (Conv2D)            (None, 16, 16, 64)        18496     \n",
      "_________________________________________________________________\n",
      "conv2d_8 (Conv2D)            (None, 16, 16, 64)        36928     \n",
      "_________________________________________________________________\n",
      "max_pooling2d_6 (MaxPooling2 (None, 8, 8, 64)          0         \n",
      "_________________________________________________________________\n",
      "dropout_4 (Dropout)          (None, 8, 8, 64)          0         \n",
      "_________________________________________________________________\n",
      "flatten_3 (Flatten)          (None, 4096)              0         \n",
      "_________________________________________________________________\n",
      "dense_5 (Dense)              (None, 128)               524416    \n",
      "_________________________________________________________________\n",
      "dense_6 (Dense)              (None, 50)                6450      \n",
      "=================================================================\n",
      "Total params: 612,754\n",
      "Trainable params: 612,754\n",
      "Non-trainable params: 0\n",
      "_________________________________________________________________\n"
     ]
    }
   ],
   "source": [
    "model.summary()"
   ]
  },
  {
   "cell_type": "markdown",
   "metadata": {},
   "source": [
    "#### CONFIGURING MODEL"
   ]
  },
  {
   "cell_type": "code",
   "execution_count": 62,
   "metadata": {},
   "outputs": [],
   "source": [
    "model.compile(loss=keras.losses.categorical_crossentropy,\n",
    "              optimizer=keras.optimizers.Adam(),\n",
    "              metrics=['accuracy'])"
   ]
  },
  {
   "cell_type": "code",
   "execution_count": 63,
   "metadata": {},
   "outputs": [
    {
     "name": "stdout",
     "output_type": "stream",
     "text": [
      "Train on 9600 samples, validate on 2400 samples\n",
      "Epoch 1/15\n",
      "9600/9600 [==============================] - 12s 1ms/step - loss: 0.2518 - acc: 0.9185 - val_loss: 0.5517 - val_acc: 0.8467\n",
      "Epoch 2/15\n",
      "9600/9600 [==============================] - 12s 1ms/step - loss: 0.1851 - acc: 0.9410 - val_loss: 0.5285 - val_acc: 0.8638\n",
      "Epoch 3/15\n",
      "9600/9600 [==============================] - 11s 1ms/step - loss: 0.1655 - acc: 0.9444 - val_loss: 0.5238 - val_acc: 0.8721\n",
      "Epoch 4/15\n",
      "9600/9600 [==============================] - 12s 1ms/step - loss: 0.1313 - acc: 0.9539 - val_loss: 0.5429 - val_acc: 0.8729\n",
      "Epoch 5/15\n",
      "9600/9600 [==============================] - 12s 1ms/step - loss: 0.1025 - acc: 0.9664 - val_loss: 0.6032 - val_acc: 0.8725\n",
      "Epoch 6/15\n",
      "9600/9600 [==============================] - 12s 1ms/step - loss: 0.1131 - acc: 0.9635 - val_loss: 0.5319 - val_acc: 0.8763\n",
      "Epoch 7/15\n",
      "9600/9600 [==============================] - 12s 1ms/step - loss: 0.0894 - acc: 0.9705 - val_loss: 0.5520 - val_acc: 0.8771\n",
      "Epoch 8/15\n",
      "9600/9600 [==============================] - 12s 1ms/step - loss: 0.0896 - acc: 0.9710 - val_loss: 0.5402 - val_acc: 0.8800\n",
      "Epoch 9/15\n",
      "9600/9600 [==============================] - 12s 1ms/step - loss: 0.0714 - acc: 0.9733 - val_loss: 0.5563 - val_acc: 0.8850\n",
      "Epoch 10/15\n",
      "9600/9600 [==============================] - 12s 1ms/step - loss: 0.0619 - acc: 0.9802 - val_loss: 0.5941 - val_acc: 0.8829\n",
      "Epoch 11/15\n",
      "9600/9600 [==============================] - 12s 1ms/step - loss: 0.0668 - acc: 0.9778 - val_loss: 0.5843 - val_acc: 0.8808\n",
      "Epoch 12/15\n",
      "9600/9600 [==============================] - 12s 1ms/step - loss: 0.0638 - acc: 0.9779 - val_loss: 0.5901 - val_acc: 0.8767\n",
      "Epoch 13/15\n",
      "9600/9600 [==============================] - 12s 1ms/step - loss: 0.0544 - acc: 0.9816 - val_loss: 0.5914 - val_acc: 0.8854\n",
      "Epoch 14/15\n",
      "9600/9600 [==============================] - 12s 1ms/step - loss: 0.0556 - acc: 0.9821 - val_loss: 0.6369 - val_acc: 0.8775\n",
      "Epoch 15/15\n",
      "9600/9600 [==============================] - 12s 1ms/step - loss: 0.0542 - acc: 0.9814 - val_loss: 0.5895 - val_acc: 0.8829\n",
      "<keras.callbacks.History object at 0x7f58901f8390>\n"
     ]
    }
   ],
   "source": [
    "obj = model.fit(X_train, Y_train,\n",
    "          batch_size=120,\n",
    "          epochs=15,\n",
    "          verbose=1,\n",
    "          validation_data=(X_dev, Y_dev))\n",
    "print(obj)"
   ]
  },
  {
   "cell_type": "code",
   "execution_count": 74,
   "metadata": {
    "scrolled": true
   },
   "outputs": [
    {
     "name": "stdout",
     "output_type": "stream",
     "text": [
      "3000/3000 [==============================] - 1s 440us/step\n",
      "Test loss:- 0.5343042815327644\n",
      "Test accuracy:- 0.8869999998410543\n"
     ]
    }
   ],
   "source": [
    "score = model.evaluate(X_test, Y_test, verbose=1)\n",
    "print('Test loss:-', score[0])\n",
    "print('Test accuracy:-', score[1])"
   ]
  },
  {
   "cell_type": "markdown",
   "metadata": {},
   "source": [
    "#### PLOTTING ACCURACY"
   ]
  },
  {
   "cell_type": "code",
   "execution_count": 69,
   "metadata": {
    "scrolled": true
   },
   "outputs": [
    {
     "data": {
      "text/plain": [
       "<matplotlib.legend.Legend at 0x7f582b434c88>"
      ]
     },
     "execution_count": 69,
     "metadata": {},
     "output_type": "execute_result"
    },
    {
     "data": {
      "image/png": "[encoded data removed]",
      "text/plain": [
       "<matplotlib.figure.Figure at 0x7f582b3df0b8>"
      ]
     },
     "metadata": {},
     "output_type": "display_data"
    }
   ],
   "source": [
    "import matplotlib.patches as mpatches\n",
    "line1=plt.plot(range(1,16),obj.history['acc'],'r-' )\n",
    "line2=plt.plot(range(1,16),obj.history['val_acc'],'g-')\n",
    "plt.xlabel(\"EPOCH\")\n",
    "plt.ylabel(\"ACCURACY\")\n",
    "\n",
    "red_patch = mpatches.Patch(color='red', label='Train ACC.')\n",
    "green_patch = mpatches.Patch(color='green', label='Val ACC.')\n",
    "plt.legend(handles=[green_patch,red_patch], loc=2)\n"
   ]
  },
  {
   "cell_type": "markdown",
   "metadata": {},
   "source": [
    "#### PLOTTING ERROR"
   ]
  },
  {
   "cell_type": "code",
   "execution_count": 70,
   "metadata": {},
   "outputs": [
    {
     "data": {
      "text/plain": [
       "<matplotlib.legend.Legend at 0x7f582b434d30>"
      ]
     },
     "execution_count": 70,
     "metadata": {},
     "output_type": "execute_result"
    },
    {
     "data": {
      "image/png": "[encoded data removed]",
      "text/plain": [
       "<matplotlib.figure.Figure at 0x7f582b3578d0>"
      ]
     },
     "metadata": {},
     "output_type": "display_data"
    }
   ],
   "source": [
    "line1=plt.plot(range(1,16),obj.history['loss'],'r-' )\n",
    "line2=plt.plot(range(1,16),obj.history['val_loss'],'g-')\n",
    "plt.xlabel(\"EPOCH\")\n",
    "plt.ylabel(\"LOSS\")\n",
    "\n",
    "red_patch = mpatches.Patch(color='red', label='Train Loss')\n",
    "green_patch = mpatches.Patch(color='green', label='Val Loss')\n",
    "plt.legend(handles=[green_patch,red_patch], loc=1)\n"
   ]
  },
  {
   "cell_type": "code",
   "execution_count": 79,
   "metadata": {},
   "outputs": [],
   "source": [
    "#if you want to save model uncomment below code\n",
    "model.save('bangla-dl.h5')"
   ]
  },
  {
   "cell_type": "code",
   "execution_count": null,
   "metadata": {},
   "outputs": [],
   "source": []
  }
 ],
 "metadata": {
  "kernelspec": {
   "display_name": "Python 3",
   "language": "python",
   "name": "python3"
  },
  "language_info": {
   "codemirror_mode": {
    "name": "ipython",
    "version": 3
   },
   "file_extension": ".py",
   "mimetype": "text/x-python",
   "name": "python",
   "nbconvert_exporter": "python",
   "pygments_lexer": "ipython3",
   "version": "3.6.4"
  }
 },
 "nbformat": 4,
 "nbformat_minor": 2
}
